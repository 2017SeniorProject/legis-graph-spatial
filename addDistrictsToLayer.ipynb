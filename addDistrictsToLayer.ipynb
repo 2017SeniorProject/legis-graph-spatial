{
 "cells": [
  {
   "cell_type": "code",
   "execution_count": 3,
   "metadata": {
    "collapsed": true
   },
   "outputs": [],
   "source": [
    "import requests\n",
    "from py2neo import Graph"
   ]
  },
  {
   "cell_type": "markdown",
   "metadata": {},
   "source": [
    "### Add districts to spatial layer\n",
    "This notebook shows how to add nodes in Neo4j into a spatial layer/index. Nodes have POLYGON WKT string properties that define their geometries."
   ]
  },
  {
   "cell_type": "code",
   "execution_count": 8,
   "metadata": {
    "collapsed": true
   },
   "outputs": [],
   "source": [
    "# A Neo4j instance with Legis-Graph \n",
    "graph = Graph(\"http://52.70.212.93/db/data\")\n",
    "baseURI = \"http://52.70.212.93\""
   ]
  },
  {
   "cell_type": "code",
   "execution_count": 10,
   "metadata": {
    "collapsed": true
   },
   "outputs": [],
   "source": [
    "# this function will add a node to a spatial layer \n",
    "def addNodeToLayer(layer, nodeId):\n",
    "    addNodeToLayerParams = {\"node\": baseURI+ \"/db/data/node/\" + str(nodeId), \"layer\": layer}\n",
    "    r = requests.post(baseURI + \"/db/data/ext/SpatialPlugin/graphdb/addNodeToLayer\", json=addNodeToLayerParams)"
   ]
  },
  {
   "cell_type": "code",
   "execution_count": 12,
   "metadata": {
    "collapsed": false
   },
   "outputs": [],
   "source": [
    "# Find District nodes that have wkt property and are not part of the spatial index.\n",
    "# Add these nodes to the layer\n",
    "getIdsQuery = \"MATCH (n:District) WHERE has(n.wkt) AND NOT (n)-[:RTREE_REFERENCE]-() RETURN id(n) AS n\"\n",
    "results = graph.cypher.execute(getIdsQuery)\n",
    "for record in results:\n",
    "    nodeId = record.n\n",
    "    addNodeToLayer(\"geom\", nodeId)"
   ]
  },
  {
   "cell_type": "code",
   "execution_count": null,
   "metadata": {
    "collapsed": true
   },
   "outputs": [],
   "source": []
  }
 ],
 "metadata": {
  "kernelspec": {
   "display_name": "Python 3",
   "language": "python",
   "name": "python3"
  },
  "language_info": {
   "codemirror_mode": {
    "name": "ipython",
    "version": 3
   },
   "file_extension": ".py",
   "mimetype": "text/x-python",
   "name": "python",
   "nbconvert_exporter": "python",
   "pygments_lexer": "ipython3",
   "version": "3.5.0"
  }
 },
 "nbformat": 4,
 "nbformat_minor": 0
}
